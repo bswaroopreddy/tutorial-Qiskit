{
 "cells": [
  {
   "cell_type": "code",
   "execution_count": null,
   "id": "9c2996f1-d44f-48fd-8485-734580263c26",
   "metadata": {},
   "outputs": [],
   "source": [
    "import numpy as np\n",
    "from numpy.linalg import svd\n",
    "\n",
    "# Example bipartite state vector: |ψ⟩ = (1/√3)|00⟩ + √(2/3)|11⟩\n",
    "psi_vec = (1 / np.sqrt(3)) * np.kron([1, 0], [1, 0]) + np.sqrt(2 / 3) * np.kron([0, 1], [0, 1])\n",
    "\n",
    "# Reshape into 2x2 matrix (qubit ⊗ qubit)\n",
    "psi_matrix = psi_vec.reshape(2, 2)\n",
    "\n",
    "# Perform SVD\n",
    "U, S, Vh = svd(psi_matrix)\n",
    "\n",
    "# S contains the Schmidt coefficients\n",
    "schmidt_coeffs = S\n",
    "print(\"Schmidt coefficients:\", schmidt_coeffs)\n"
   ]
  }
 ],
 "metadata": {
  "kernelspec": {
   "display_name": "Python 3 (ipykernel)",
   "language": "python",
   "name": "python3"
  },
  "language_info": {
   "codemirror_mode": {
    "name": "ipython",
    "version": 3
   },
   "file_extension": ".py",
   "mimetype": "text/x-python",
   "name": "python",
   "nbconvert_exporter": "python",
   "pygments_lexer": "ipython3",
   "version": "3.12.3"
  }
 },
 "nbformat": 4,
 "nbformat_minor": 5
}
