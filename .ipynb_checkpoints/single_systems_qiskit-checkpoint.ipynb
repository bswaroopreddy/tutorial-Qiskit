{
 "cells": [
  {
   "cell_type": "code",
   "execution_count": 8,
   "id": "70b9ba6d-1105-4673-b51c-a46ed0262486",
   "metadata": {},
   "outputs": [
    {
     "name": "stdout",
     "output_type": "stream",
     "text": [
      "1.3.1\n"
     ]
    }
   ],
   "source": [
    "from qiskit import __version__\n",
    "print(__version__)"
   ]
  },
  {
   "cell_type": "code",
   "execution_count": 9,
   "id": "d6b16745-ab94-4bd9-ad89-abd7af5735eb",
   "metadata": {},
   "outputs": [
    {
     "name": "stdout",
     "output_type": "stream",
     "text": [
      "[0.5 0.5]\n"
     ]
    }
   ],
   "source": [
    "import numpy as np\n",
    "ket_0 = np.array([1.0, 0.0])\n",
    "ket_1 = np.array([0.0, 1.0])\n",
    "print(ket_0/2 + ket_1/2)"
   ]
  },
  {
   "cell_type": "code",
   "execution_count": 10,
   "id": "147225a0-aa28-4151-b761-aacbb6dc04b2",
   "metadata": {},
   "outputs": [
    {
     "data": {
      "text/plain": [
       "1"
      ]
     },
     "metadata": {},
     "output_type": "display_data"
    },
    {
     "data": {
      "text/plain": [
       "matrix([[0, 1]])"
      ]
     },
     "metadata": {},
     "output_type": "display_data"
    },
    {
     "data": {
      "text/plain": [
       "matrix([[0.5, 0.5]])"
      ]
     },
     "metadata": {},
     "output_type": "display_data"
    },
    {
     "data": {
      "text/plain": [
       "matrix([[0.70710678, 0.70710678]])"
      ]
     },
     "metadata": {},
     "output_type": "display_data"
    },
    {
     "data": {
      "text/plain": [
       "matrix([[ 0.70710678, -0.70710678]])"
      ]
     },
     "metadata": {},
     "output_type": "display_data"
    },
    {
     "data": {
      "text/plain": [
       "2"
      ]
     },
     "metadata": {},
     "output_type": "display_data"
    },
    {
     "data": {
      "text/plain": [
       "matrix([[0],\n",
       "        [1]])"
      ]
     },
     "metadata": {},
     "output_type": "display_data"
    }
   ],
   "source": [
    "import numpy as np\n",
    "from IPython.display import display\n",
    "\n",
    "\n",
    "ket0 = np.array([1,0])\n",
    "ket1 = np.array([0,1])\n",
    "plus_state = np.matrix([1/np.sqrt(2), 1/np.sqrt(2)])\n",
    "minus_state = np.matrix([1/np.sqrt(2), -1/np.sqrt(2)])\n",
    "\n",
    "bra0 = ket0.T\n",
    "bra1 = ket1.T\n",
    "\n",
    "\n",
    "display(len(ket0))\n",
    "display(ket1)\n",
    "display(ket0 / 2 + ket1 / 2) \n",
    "display(plus_state)\n",
    "display(minus_state)\n",
    "\n",
    "display(len(bra0))\n",
    "display(bra1)\n"
   ]
  },
  {
   "cell_type": "code",
   "execution_count": 11,
   "id": "2f42aba8-e552-419c-bed6-8b23b403c426",
   "metadata": {},
   "outputs": [
    {
     "data": {
      "text/plain": [
       "array([1, 0])"
      ]
     },
     "execution_count": 11,
     "metadata": {},
     "output_type": "execute_result"
    }
   ],
   "source": [
    "np.array([1,0]).T"
   ]
  },
  {
   "cell_type": "code",
   "execution_count": 15,
   "id": "d2ea6c85-a186-4467-8e69-e99ded3ebb4a",
   "metadata": {},
   "outputs": [
    {
     "data": {
      "text/plain": [
       "array([[2, 1],\n",
       "       [0, 1]])"
      ]
     },
     "metadata": {},
     "output_type": "display_data"
    },
    {
     "name": "stdout",
     "output_type": "stream",
     "text": [
      "[[1.  0.5]\n",
      " [0.  0.5]]\n"
     ]
    },
    {
     "ename": "ValueError",
     "evalue": "matmul: Input operand 1 has a mismatch in its core dimension 0, with gufunc signature (n?,k),(k,m?)->(n?,m?) (size 1 is different from 2)",
     "output_type": "error",
     "traceback": [
      "\u001b[0;31m---------------------------------------------------------------------------\u001b[0m",
      "\u001b[0;31mValueError\u001b[0m                                Traceback (most recent call last)",
      "Cell \u001b[0;32mIn[15], line 25\u001b[0m\n\u001b[1;32m     22\u001b[0m display(M1 \u001b[38;5;241m+\u001b[39m M2)\n\u001b[1;32m     24\u001b[0m \u001b[38;5;28mprint\u001b[39m((M1 \u001b[38;5;241m+\u001b[39m M2)\u001b[38;5;241m/\u001b[39m\u001b[38;5;241m2\u001b[39m)\n\u001b[0;32m---> 25\u001b[0m \u001b[38;5;28mprint\u001b[39m(\u001b[43mnp\u001b[49m\u001b[38;5;241;43m.\u001b[39;49m\u001b[43mmatmul\u001b[49m\u001b[43m(\u001b[49m\u001b[43mM1\u001b[49m\u001b[43m,\u001b[49m\u001b[43m \u001b[49m\u001b[43mket1\u001b[49m\u001b[43m)\u001b[49m)\n\u001b[1;32m     26\u001b[0m \u001b[38;5;28mprint\u001b[39m(np\u001b[38;5;241m.\u001b[39mmatmul(M1, M2))\n\u001b[1;32m     27\u001b[0m \u001b[38;5;28mprint\u001b[39m(np\u001b[38;5;241m.\u001b[39mmatmul(M, M))\n",
      "\u001b[0;31mValueError\u001b[0m: matmul: Input operand 1 has a mismatch in its core dimension 0, with gufunc signature (n?,k),(k,m?)->(n?,m?) (size 1 is different from 2)"
     ]
    }
   ],
   "source": [
    "import numpy as np\n",
    "#import quantum_states as qs\n",
    "from IPython.display import display\n",
    "\n",
    "def bracket(a, b):\n",
    "    return np.matmul(a, b)\n",
    "\n",
    "# f_1(a) = 0\n",
    "# f_2(a) = a\n",
    "# f_3(a) = ~a\n",
    "# f_4(a) = 1\n",
    "\n",
    "M1 = np.array([[1,1], [0,0]])\n",
    "M2 = np.array([[1,0], [0,1]])\n",
    "M3 = np.array([[0,1], [1,0]])\n",
    "M4 = np.array([[0,0], [1,1]])\n",
    "\n",
    "\n",
    "# bra0_ket1 = bracket(qs.ket0.T, qs.ket1)\n",
    "# display(bra0_ket1)\n",
    "\n",
    "display(M1 + M2)\n",
    "\n",
    "print((M1 + M2)/2)\n",
    "print(np.matmul(M1, ket1))\n",
    "print(np.matmul(M1, M2))\n",
    "print(np.matmul(M, M))"
   ]
  },
  {
   "cell_type": "code",
   "execution_count": 14,
   "id": "03cd4d8d-4439-4b2c-8dd7-954fcc680679",
   "metadata": {},
   "outputs": [
    {
     "name": "stdout",
     "output_type": "stream",
     "text": [
      "[0.70710678+0.j,0.70710678+0.j]\n",
      "True\n",
      "True\n",
      "False\n",
      "(np.str_('0'), Statevector([1.+0.j, 0.+0.j],\n",
      "            dims=(2,)))\n",
      "Statevector([ 0.33333333+0.66666667j, -0.66666667+0.j        ],\n",
      "            dims=(2,))\n",
      "{np.str_('0'): np.int64(561), np.str_('1'): np.int64(439)}\n"
     ]
    }
   ],
   "source": [
    "from qiskit.quantum_info import Statevector\n",
    "import numpy as np\n",
    "import IPython.display as display\n",
    "from qiskit.visualization import plot_histogram\n",
    "\n",
    "\n",
    "u = Statevector([1 / np.sqrt(2), 1 / np.sqrt(2)])\n",
    "v = Statevector([(1 + 2.0j) / 3, -2 / 3])\n",
    "w = Statevector([1 / 3, 2 / 3])\n",
    "\n",
    "#display(u.draw(\"latex\"))\n",
    "\n",
    "print(u.draw(\"text\"))\n",
    "\n",
    "print(u.is_valid())\n",
    "print(v.is_valid())\n",
    "print(w.is_valid())\n",
    "\n",
    "print(u.measure())\n",
    "\n",
    "print(v.draw())\n",
    "\n",
    "\n",
    "\n",
    "statistics = v.sample_counts(1000)\n",
    "#display(statistics)\n",
    "plot_histogram(statistics)\n",
    "print(statistics)"
   ]
  },
  {
   "cell_type": "code",
   "execution_count": 6,
   "id": "7da10797-762b-432f-89b2-2b43463092ec",
   "metadata": {},
   "outputs": [
    {
     "name": "stdout",
     "output_type": "stream",
     "text": [
      "[[1.  0.5]\n",
      " [0.  0.5]]\n"
     ]
    }
   ],
   "source": []
  },
  {
   "cell_type": "code",
   "execution_count": null,
   "id": "70c74847-8ce4-43da-9423-d67dd2b6b102",
   "metadata": {},
   "outputs": [],
   "source": []
  },
  {
   "cell_type": "code",
   "execution_count": null,
   "id": "77fb4ed2-b65a-4250-bbe7-76c51d4d372b",
   "metadata": {},
   "outputs": [],
   "source": []
  }
 ],
 "metadata": {
  "kernelspec": {
   "display_name": "Python 3 (ipykernel)",
   "language": "python",
   "name": "python3"
  },
  "language_info": {
   "codemirror_mode": {
    "name": "ipython",
    "version": 3
   },
   "file_extension": ".py",
   "mimetype": "text/x-python",
   "name": "python",
   "nbconvert_exporter": "python",
   "pygments_lexer": "ipython3",
   "version": "3.12.3"
  }
 },
 "nbformat": 4,
 "nbformat_minor": 5
}
