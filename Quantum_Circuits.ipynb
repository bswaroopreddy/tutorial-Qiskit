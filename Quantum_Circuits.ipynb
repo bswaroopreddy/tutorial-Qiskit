{
 "cells": [
  {
   "cell_type": "code",
   "execution_count": 1,
   "id": "7ecc9139-201d-45e8-b1c8-5448528e6c27",
   "metadata": {},
   "outputs": [
    {
     "name": "stdout",
     "output_type": "stream",
     "text": [
      "1.3.2\n"
     ]
    }
   ],
   "source": [
    "from qiskit import __version__\n",
    "print(__version__)"
   ]
  },
  {
   "cell_type": "code",
   "execution_count": 2,
   "id": "8456df4b-8818-4fd2-927a-6c49d1c6d500",
   "metadata": {},
   "outputs": [
    {
     "data": {
      "image/png": "[encoded data removed]",
      "text/plain": [
       "<Figure size 436.286x117.056 with 1 Axes>"
      ]
     },
     "metadata": {},
     "output_type": "display_data"
    }
   ],
   "source": [
    "from qiskit import QuantumCircuit, QuantumRegister, ClassicalRegister\n",
    "from qiskit.quantum_info import Operator\n",
    "#from qiskit_aer import AerSimulator\n",
    "from qiskit.visualization import plot_histogram\n",
    "\n",
    "circuit = QuantumCircuit(1)\n",
    "circuit.h(0)\n",
    "circuit.s(0)\n",
    "circuit.h(0)\n",
    "circuit.t(0)\n",
    "\n",
    "display(circuit.draw(output=\"mpl\"))"
   ]
  },
  {
   "cell_type": "code",
   "execution_count": 3,
   "id": "a3d7c734-4fa8-4ac8-b764-7ee890f0a980",
   "metadata": {},
   "outputs": [
    {
     "data": {
      "image/png": "[encoded data removed]",
      "text/plain": [
       "<Figure size 437.882x117.056 with 1 Axes>"
      ]
     },
     "metadata": {},
     "output_type": "display_data"
    }
   ],
   "source": [
    "X = QuantumRegister(1, \"X\")\n",
    "\n",
    "qc = QuantumCircuit(X)\n",
    "qc.h(X)\n",
    "qc.s(X)\n",
    "qc.h(X)\n",
    "qc.t(X)\n",
    "\n",
    "display(qc.draw(output=\"mpl\"))"
   ]
  },
  {
   "cell_type": "code",
   "execution_count": 4,
   "id": "fb4fd0f8-e400-4433-aa36-26f810348795",
   "metadata": {},
   "outputs": [
    {
     "name": "stdout",
     "output_type": "stream",
     "text": [
      "          \n",
      "q_0: ──■──\n",
      "     ┌─┴─┐\n",
      "q_1: ┤ X ├\n",
      "     └───┘\n",
      "     ┌───┐\n",
      "q_0: ┤ X ├\n",
      "     └─┬─┘\n",
      "q_1: ──■──\n",
      "          \n"
     ]
    },
    {
     "data": {
      "image/png": "[encoded data removed]",
      "text/plain": [
       "<Figure size 203.683x200.667 with 1 Axes>"
      ]
     },
     "metadata": {},
     "output_type": "display_data"
    },
    {
     "data": {
      "text/latex": [
       "$$\n",
       "\n",
       "\\begin{bmatrix}\n",
       "1 & 0 & 0 & 0  \\\\\n",
       " 0 & 0 & 0 & 1  \\\\\n",
       " 0 & 0 & 1 & 0  \\\\\n",
       " 0 & 1 & 0 & 0  \\\\\n",
       " \\end{bmatrix}\n",
       "$$"
      ],
      "text/plain": [
       "<IPython.core.display.Latex object>"
      ]
     },
     "metadata": {},
     "output_type": "display_data"
    },
    {
     "data": {
      "image/png": "[encoded data removed]",
      "text/plain": [
       "<Figure size 203.683x200.667 with 1 Axes>"
      ]
     },
     "metadata": {},
     "output_type": "display_data"
    },
    {
     "data": {
      "text/latex": [
       "$$\n",
       "\n",
       "\\begin{bmatrix}\n",
       "1 & 0 & 0 & 0  \\\\\n",
       " 0 & 1 & 0 & 0  \\\\\n",
       " 0 & 0 & 0 & 1  \\\\\n",
       " 0 & 0 & 1 & 0  \\\\\n",
       " \\end{bmatrix}\n",
       "$$"
      ],
      "text/plain": [
       "<IPython.core.display.Latex object>"
      ]
     },
     "metadata": {},
     "output_type": "display_data"
    }
   ],
   "source": [
    "# Controlled-NOT gate\n",
    "\n",
    "## Create a quantum circuit with 2 qubits\n",
    "qc = QuantumCircuit(2)\n",
    "\n",
    "\n",
    "# Apply a CNOT gate with qubit 0 as control and qubit 1 as target\n",
    "qc.cx(0, 1)\n",
    "\n",
    "# Draw the circuit\n",
    "print(qc)\n",
    "\n",
    "## Create a quantum circuit with 2 qubits\n",
    "qc1 = QuantumCircuit(2)\n",
    "\n",
    "# Apply a CNOT gate with qubit 1 as control and qubit 0 as target\n",
    "qc1.cx(1, 0)\n",
    "print(qc1)\n",
    "\n",
    "display(qc.draw(\"mpl\"))\n",
    "display(Operator.from_circuit(qc).draw(\"latex\"))\n",
    "display(qc1.draw(\"mpl\"))\n",
    "display(Operator.from_circuit(qc1).draw(\"latex\"))"
   ]
  },
  {
   "cell_type": "code",
   "execution_count": 5,
   "id": "01be5794-81d0-424d-9ea8-8dbb35869f41",
   "metadata": {},
   "outputs": [
    {
     "name": "stdout",
     "output_type": "stream",
     "text": [
      "State after applying CNOT gate: Statevector([1.+0.j, 0.+0.j, 0.+0.j, 0.+0.j],\n",
      "            dims=(2, 2))\n"
     ]
    }
   ],
   "source": [
    "from qiskit.quantum_info import Statevector\n",
    "state = Statevector.from_instruction(qc)\n",
    "\n",
    "print(\"State after applying CNOT gate:\", state)"
   ]
  },
  {
   "cell_type": "code",
   "execution_count": 6,
   "id": "c784a99a-3aec-4b6e-91cf-6424168343af",
   "metadata": {},
   "outputs": [
    {
     "name": "stdout",
     "output_type": "stream",
     "text": [
      "Statevector after CNOT: Statevector([1.+0.j, 0.+0.j, 0.+0.j, 0.+0.j],\n",
      "            dims=(2, 2))\n"
     ]
    }
   ],
   "source": [
    "from qiskit import QuantumCircuit\n",
    "from qiskit.quantum_info import Statevector\n",
    "\n",
    "# Create a 2-qubit quantum circuit\n",
    "qc = QuantumCircuit(2)\n",
    "\n",
    "# Initialize the qubits to a superposition state (|ψ⟩ = (|00⟩ + |10⟩)/√2)\n",
    "#qc.h(0)\n",
    "\n",
    "# Apply a CNOT gate\n",
    "qc.cx(0, 1)\n",
    "\n",
    "# Simulate the final statevector\n",
    "state = Statevector.from_instruction(qc)\n",
    "\n",
    "# Print the final statevector\n",
    "print(\"Statevector after CNOT:\", state)"
   ]
  },
  {
   "cell_type": "code",
   "execution_count": 7,
   "id": "788d72c3-a816-48a8-8c9c-fcae723243cc",
   "metadata": {
    "scrolled": true
   },
   "outputs": [
    {
     "data": {
      "image/png": "[encoded data removed]",
      "text/plain": [
       "<Figure size 187.049x200.667 with 1 Axes>"
      ]
     },
     "metadata": {},
     "output_type": "display_data"
    },
    {
     "data": {
      "text/latex": [
       "$$\n",
       "\n",
       "\\begin{bmatrix}\n",
       "\\frac{\\sqrt{2}}{2} & \\frac{\\sqrt{2}}{2} & 0 & 0  \\\\\n",
       " \\frac{\\sqrt{2}}{2} & - \\frac{\\sqrt{2}}{2} & 0 & 0  \\\\\n",
       " 0 & 0 & \\frac{\\sqrt{2}}{2} & \\frac{\\sqrt{2}}{2}  \\\\\n",
       " 0 & 0 & \\frac{\\sqrt{2}}{2} & - \\frac{\\sqrt{2}}{2}  \\\\\n",
       " \\end{bmatrix}\n",
       "$$"
      ],
      "text/plain": [
       "<IPython.core.display.Latex object>"
      ]
     },
     "metadata": {},
     "output_type": "display_data"
    },
    {
     "data": {
      "image/png": "[encoded data removed]",
      "text/plain": [
       "<Figure size 270.66x200.667 with 1 Axes>"
      ]
     },
     "metadata": {},
     "output_type": "display_data"
    },
    {
     "data": {
      "text/latex": [
       "$$\n",
       "\n",
       "\\begin{bmatrix}\n",
       "\\frac{\\sqrt{2}}{2} & \\frac{\\sqrt{2}}{2} & 0 & 0  \\\\\n",
       " 0 & 0 & \\frac{\\sqrt{2}}{2} & - \\frac{\\sqrt{2}}{2}  \\\\\n",
       " 0 & 0 & \\frac{\\sqrt{2}}{2} & \\frac{\\sqrt{2}}{2}  \\\\\n",
       " \\frac{\\sqrt{2}}{2} & - \\frac{\\sqrt{2}}{2} & 0 & 0  \\\\\n",
       " \\end{bmatrix}\n",
       "$$"
      ],
      "text/plain": [
       "<IPython.core.display.Latex object>"
      ]
     },
     "metadata": {},
     "output_type": "display_data"
    }
   ],
   "source": [
    "X = QuantumRegister(1, \"X\")\n",
    "Y = QuantumRegister(1, \"Y\")\n",
    "qc = QuantumCircuit(Y,X)\n",
    "qc.h(Y)\n",
    "display(qc.draw(output=\"mpl\"))\n",
    "display(Operator.from_circuit(qc).draw(\"latex\"))\n",
    "qc.cx(Y, X)\n",
    "\n",
    "display(qc.draw(output=\"mpl\"))\n",
    "display(Operator.from_circuit(qc).draw(\"latex\"))"
   ]
  },
  {
   "cell_type": "code",
   "execution_count": 15,
   "id": "0e4de16a-86bd-4f32-a7ee-0d2380e15e70",
   "metadata": {},
   "outputs": [
    {
     "data": {
      "text/latex": [
       "$$ |10\\rangle$$"
      ],
      "text/plain": [
       "<IPython.core.display.Latex object>"
      ]
     },
     "metadata": {},
     "output_type": "display_data"
    },
    {
     "name": "stdout",
     "output_type": "stream",
     "text": [
      "Final Statevector: Statevector([0.+0.j, 0.+0.j, 0.+0.j, 1.+0.j],\n",
      "            dims=(2, 2))\n"
     ]
    },
    {
     "data": {
      "image/png": "[encoded data removed]",
      "text/plain": [
       "<Figure size 370.906x200.667 with 1 Axes>"
      ]
     },
     "metadata": {},
     "output_type": "display_data"
    },
    {
     "data": {
      "text/latex": [
       "$$ |11\\rangle$$"
      ],
      "text/plain": [
       "<IPython.core.display.Latex object>"
      ]
     },
     "metadata": {},
     "output_type": "display_data"
    }
   ],
   "source": [
    "# Initialize a Custom State Using initialize:\n",
    "\n",
    "qc = QuantumCircuit(2)\n",
    "\n",
    "# Define the initial state vector for |01⟩\n",
    "# |01⟩ corresponds to [0, 1, 0, 0] in computational basis\n",
    "initial_state = Statevector([0, 0, 1, 0])  # corresponds to |10>\n",
    "display(initial_state.draw(\"latex\"))\n",
    "#initialize qubits\n",
    "qc.initialize(initial_state, [1,0])\n",
    "\n",
    "qc.cx(0,1)\n",
    "\n",
    "state = Statevector.from_instruction(qc)\n",
    "# Print the final statevector\n",
    "print(\"Final Statevector:\", state)\n",
    "qc.draw(\"mpl\")\n",
    "display(qc.draw(\"mpl\"))\n",
    "display(state.draw(\"latex\"))\n"
   ]
  },
  {
   "cell_type": "code",
   "execution_count": 9,
   "id": "f46b52c1-6e57-4ee9-ab39-6b3f87f7c60a",
   "metadata": {},
   "outputs": [
    {
     "name": "stdout",
     "output_type": "stream",
     "text": [
      "Final Statevector: Statevector([0.+0.j, 0.+0.j, 1.+0.j, 0.+0.j],\n",
      "            dims=(2, 2))\n"
     ]
    },
    {
     "data": {
      "image/png": "[encoded data removed]",
      "text/plain": [
       "<Figure size 287.294x200.667 with 1 Axes>"
      ]
     },
     "metadata": {},
     "output_type": "display_data"
    },
    {
     "data": {
      "text/latex": [
       "$$ |10\\rangle$$"
      ],
      "text/plain": [
       "<IPython.core.display.Latex object>"
      ]
     },
     "metadata": {},
     "output_type": "display_data"
    }
   ],
   "source": [
    "# STatndard Basis states using gates\n",
    "\n",
    "qc = QuantumCircuit(2)\n",
    "\n",
    "#qc.x(0)\n",
    "qc.x(1)\n",
    "\n",
    "qc.cx(0,1)\n",
    "\n",
    "state = Statevector.from_instruction(qc)\n",
    "# Print the final statevector\n",
    "print(\"Final Statevector:\", state)\n",
    "\n",
    "display(qc.draw(\"mpl\"))\n",
    "display(state.draw(\"latex\"))\n",
    "\n",
    "#print(qc)"
   ]
  },
  {
   "cell_type": "code",
   "execution_count": 10,
   "id": "1733a8f5-bd2d-4c1e-8a8e-5ceabb936e13",
   "metadata": {},
   "outputs": [
    {
     "name": "stdout",
     "output_type": "stream",
     "text": [
      "Final Statevector: Statevector([0.70710678+0.j, 0.        +0.j, 0.        +0.j,\n",
      "             0.70710678+0.j],\n",
      "            dims=(2, 2))\n",
      "     ┌───┐     \n",
      "q_0: ┤ H ├──■──\n",
      "     └───┘┌─┴─┐\n",
      "q_1: ─────┤ X ├\n",
      "          └───┘\n"
     ]
    }
   ],
   "source": [
    "#Superposition States Using h\n",
    "\n",
    "from qiskit import QuantumCircuit\n",
    "\n",
    "# Create a circuit with 2 qubits\n",
    "qc = QuantumCircuit(2)\n",
    "\n",
    "# Apply a Hadamard gate to the first qubit to create superposition\n",
    "qc.h(0)\n",
    "\n",
    "# Apply a CNOT gate to entangle the qubits\n",
    "qc.cx(0, 1)\n",
    "\n",
    "state = Statevector.from_instruction(qc)\n",
    "# Print the final statevector\n",
    "print(\"Final Statevector:\", state)\n",
    "\n",
    "# Print the circuit\n",
    "print(qc)\n"
   ]
  },
  {
   "cell_type": "code",
   "execution_count": 11,
   "id": "2a05d401-e103-4405-b949-387812334e00",
   "metadata": {},
   "outputs": [
    {
     "data": {
      "text/latex": [
       "$$\\frac{\\sqrt{2}}{2} |00\\rangle+\\frac{\\sqrt{2}}{2} |11\\rangle$$"
      ],
      "text/plain": [
       "<IPython.core.display.Latex object>"
      ]
     },
     "metadata": {},
     "output_type": "display_data"
    },
    {
     "name": "stdout",
     "output_type": "stream",
     "text": [
      "     ┌──────────────────────────────────┐\n",
      "q_0: ┤0                                 ├\n",
      "     │  Initialize(0.70711,0,0,0.70711) │\n",
      "q_1: ┤1                                 ├\n",
      "     └──────────────────────────────────┘\n"
     ]
    }
   ],
   "source": [
    "# Custom State Preparatfrom qiskit import QuantumCircuit\n",
    "from qiskit.quantum_info import Statevector\n",
    "import numpy as np\n",
    "\n",
    "# Create the statevector for (|00⟩ + |11⟩)/√2\n",
    "state = Statevector([1/np.sqrt(2), 0, 0, 1/np.sqrt(2)])\n",
    "display(state.draw(\"latex\"))\n",
    "# Create a circuit and initialize it with the statevector\n",
    "qc = QuantumCircuit(2)\n",
    "qc.initialize(state, [0, 1])\n",
    "\n",
    "# Print the circuit\n",
    "print(qc)\n"
   ]
  },
  {
   "cell_type": "code",
   "execution_count": 12,
   "id": "7fa6910c-b22c-40e5-9808-72803cf9ea46",
   "metadata": {},
   "outputs": [
    {
     "data": {
      "text/latex": [
       "$$ |01\\rangle$$"
      ],
      "text/plain": [
       "<IPython.core.display.Latex object>"
      ]
     },
     "metadata": {},
     "output_type": "display_data"
    },
    {
     "data": {
      "text/latex": [
       "$$\\frac{\\sqrt{2}}{2} |00\\rangle- \\frac{\\sqrt{2}}{2} |11\\rangle$$"
      ],
      "text/plain": [
       "<IPython.core.display.Latex object>"
      ]
     },
     "metadata": {},
     "output_type": "display_data"
    },
    {
     "data": {
      "image/png": "[encoded data removed]",
      "text/plain": [
       "<Figure size 437.882x200.667 with 1 Axes>"
      ]
     },
     "execution_count": 12,
     "metadata": {},
     "output_type": "execute_result"
    }
   ],
   "source": [
    "X = QuantumRegister(1, \"X\")\n",
    "Y = QuantumRegister(1, \"Y\")\n",
    "# Create the statevector for (|00⟩ + |11⟩)/√2\n",
    "state = Statevector([0,1,0,0])\n",
    "display(state.draw(\"latex\"))\n",
    "# Create a 2-qubit quantum circuit\n",
    "qc = QuantumCircuit(Y, X)\n",
    "\n",
    "# Initializes the input state\n",
    "qc.initialize(state, [Y[0], X[0]])\n",
    "\n",
    "# Apply Hadamard gate operation on Y\n",
    "qc.h(Y)\n",
    "\n",
    "# Controlled-NOT operation, where Y is the control and X is the target\n",
    "qc.cx(Y, X)\n",
    "\n",
    "# Compute the Unitary operation implemented by the entire circuit\n",
    "#U = Operator.from_circuit(qc)\n",
    "\n",
    "# Display the unitary matrix\n",
    "#display(U.draw(\"latex\"))\n",
    "\n",
    "\n",
    "# Generate a statevector representing the quantum state resulting from applying the given quantum circuit (qc)\n",
    "final_state = Statevector.from_instruction(qc)\n",
    "\n",
    "# Display the final statevector\n",
    "display(final_state.draw(\"latex\"))\n",
    "\n",
    "# Apply the unitary matrix to the statevector (should give the same result as above)\n",
    "#display(state.evolve(U).draw(\"latex\"))\n",
    "\n",
    "# Draw the circuit\n",
    "qc.draw(\"mpl\")\n"
   ]
  },
  {
   "cell_type": "code",
   "execution_count": 16,
   "id": "78954e14-41d8-44a9-b869-b162f35ffba5",
   "metadata": {},
   "outputs": [
    {
     "ename": "ImportError",
     "evalue": "cannot import name 'Aer' from 'qiskit' (/home/swaroop/Documents/CSP/Quantum Computing/codes/tutorial-Qiskit/.venv/lib/python3.12/site-packages/qiskit/__init__.py)",
     "output_type": "error",
     "traceback": [
      "\u001b[0;31m---------------------------------------------------------------------------\u001b[0m",
      "\u001b[0;31mImportError\u001b[0m                               Traceback (most recent call last)",
      "Cell \u001b[0;32mIn[16], line 2\u001b[0m\n\u001b[1;32m      1\u001b[0m \u001b[38;5;28;01mfrom\u001b[39;00m\u001b[38;5;250m \u001b[39m\u001b[38;5;21;01mqiskit_aer\u001b[39;00m\u001b[38;5;250m \u001b[39m\u001b[38;5;28;01mimport\u001b[39;00m AerSimulator\n\u001b[0;32m----> 2\u001b[0m \u001b[38;5;28;01mfrom\u001b[39;00m\u001b[38;5;250m \u001b[39m\u001b[38;5;21;01mqiskit\u001b[39;00m\u001b[38;5;250m \u001b[39m\u001b[38;5;28;01mimport\u001b[39;00m QuantumCircuit, Aer, execute\n\u001b[1;32m      3\u001b[0m \u001b[38;5;28;01mfrom\u001b[39;00m\u001b[38;5;250m \u001b[39m\u001b[38;5;21;01mqiskit\u001b[39;00m\u001b[38;5;21;01m.\u001b[39;00m\u001b[38;5;21;01mquantum_info\u001b[39;00m\u001b[38;5;250m \u001b[39m\u001b[38;5;28;01mimport\u001b[39;00m Statevector\n\u001b[1;32m      5\u001b[0m \u001b[38;5;66;03m# Create a quantum circuit with 2 qubits\u001b[39;00m\n",
      "\u001b[0;31mImportError\u001b[0m: cannot import name 'Aer' from 'qiskit' (/home/swaroop/Documents/CSP/Quantum Computing/codes/tutorial-Qiskit/.venv/lib/python3.12/site-packages/qiskit/__init__.py)"
     ]
    }
   ],
   "source": [
    "from qiskit_aer import AerSimulator\n",
    "from qiskit import QuantumCircuit, Aer, execute\n",
    "from qiskit.quantum_info import Statevector\n",
    "\n",
    "# Create a quantum circuit with 2 qubits\n",
    "qc = QuantumCircuit(2)\n",
    "\n",
    "# Initialize the qubits to |ψ⟩ = |0⟩|1⟩ (control qubit in |0⟩ and target qubit in |1⟩)\n",
    "qc.x(1)  # Apply an X gate to the second qubit to set it to |1⟩\n",
    "\n",
    "# Apply the CNOT gate (control qubit: 0, target qubit: 1)\n",
    "qc.cx(0, 1)\n",
    "\n",
    "# Print the circuit\n",
    "print(qc)\n",
    "\n",
    "# Use the statevector simulator to see the result\n",
    "statevector_simulator = Aer.get_backend('statevector_simulator')\n",
    "job = execute(qc, statevector_simulator)\n",
    "result = job.result()\n",
    "\n",
    "# Get the final statevector after applying the CNOT gate\n",
    "final_state = result.get_statevector()\n",
    "\n",
    "print(\"Final Statevector:\", final_state)\n"
   ]
  },
  {
   "cell_type": "code",
   "execution_count": 14,
   "id": "928f1c95-6ee7-4c4a-ad39-8b26b9603e85",
   "metadata": {},
   "outputs": [
    {
     "data": {
      "text/latex": [
       "$$\\frac{\\sqrt{2}}{2} |01\\rangle+\\frac{\\sqrt{2}}{2} |10\\rangle$$"
      ],
      "text/plain": [
       "<IPython.core.display.Latex object>"
      ]
     },
     "metadata": {},
     "output_type": "display_data"
    },
    {
     "data": {
      "image/png": "[encoded data removed]",
      "text/plain": [
       "<Figure size 605.104x367.889 with 1 Axes>"
      ]
     },
     "execution_count": 14,
     "metadata": {},
     "output_type": "execute_result"
    }
   ],
   "source": [
    "from qiskit import QuantumRegister, QuantumCircuit, ClassicalRegister\n",
    "from qiskit.quantum_info import Operator, Statevector\n",
    "X = QuantumRegister(1, \"X\")\n",
    "Y = QuantumRegister(1, \"Y\")\n",
    "A = ClassicalRegister(1, \"A\")\n",
    "B = ClassicalRegister(1, \"B\")\n",
    "\n",
    "# Create the statevector for (|01⟩ + |10⟩)/√2\n",
    "state = Statevector([0, 1, 0, 0])\n",
    "\n",
    "qc = QuantumCircuit(X, Y, B, A)\n",
    "qc.initialize(state, [Y[0], X[0]])\n",
    "\n",
    "#qc.x(Y)\n",
    "qc.h(X)\n",
    "qc.cx(X, Y)\n",
    "\n",
    "state = Statevector.from_instruction(qc)\n",
    "display(state.draw(\"latex\"))\n",
    "qc.measure(Y, A)\n",
    "qc.measure(X, B)\n",
    "\n",
    "qc.draw(\"mpl\")"
   ]
  },
  {
   "cell_type": "code",
   "execution_count": 15,
   "id": "a9d6b701-6a2f-4479-b600-a52b7e5d4e99",
   "metadata": {},
   "outputs": [
    {
     "data": {
      "image/png": "[encoded data removed]",
      "text/plain": [
       "<Figure size 640x480 with 1 Axes>"
      ]
     },
     "metadata": {},
     "output_type": "display_data"
    }
   ],
   "source": [
    "from qiskit_aer import AerSimulator\n",
    "\n",
    "result = AerSimulator().run(qc).result()\n",
    "statistics = result.get_counts()\n",
    "display(plot_histogram(statistics))"
   ]
  },
  {
   "cell_type": "code",
   "execution_count": 18,
   "id": "3d6786fa-8ac7-4fe2-b953-5d1d816d8408",
   "metadata": {},
   "outputs": [
    {
     "data": {
      "image/png": "[encoded data removed]",
      "text/plain": [
       "<Figure size 372.906x451.5 with 1 Axes>"
      ]
     },
     "execution_count": 18,
     "metadata": {},
     "output_type": "execute_result"
    }
   ],
   "source": [
    "# 3-controlled Toffoli gate with ancilla is in |0> state\n",
    "\n",
    "from qiskit import QuantumCircuit\n",
    "\n",
    "C1 = QuantumRegister(1, \"C1\")\n",
    "C2 = QuantumRegister(1, \"C2\")\n",
    "C3 = QuantumRegister(1, \"C3\")\n",
    "t = QuantumRegister(1, \"t\")\n",
    "w = QuantumRegister(1, \"w\")\n",
    "\n",
    "qc = QuantumCircuit(C1, C2, C3, w, t)  # 3 control qubits, 1 ancilla, 1 target\n",
    "\n",
    "# Apply Toffoli decomposition using one ancilla\n",
    "qc.ccx(C1, C2, w)  # First Toffoli (c1, c2 -> ancilla)\n",
    "qc.ccx(w, C3, t)  # Second Toffoli (ancilla, c3 -> target)\n",
    "qc.ccx(C1, C2, w)  # Uncompute the ancilla\n",
    "\n",
    "# Draw the circuit\n",
    "qc.draw('mpl')\n"
   ]
  },
  {
   "cell_type": "code",
   "execution_count": 20,
   "id": "a2886171-6a7f-4a73-b562-9a8b174c90a5",
   "metadata": {},
   "outputs": [
    {
     "data": {
      "image/png": "[encoded data removed]",
      "text/plain": [
       "<Figure size 456.517x451.5 with 1 Axes>"
      ]
     },
     "execution_count": 20,
     "metadata": {},
     "output_type": "execute_result"
    }
   ],
   "source": [
    "# 3-controlled Toffoli gate with ancilla is in arbitrary |w> state\n",
    "\n",
    "from qiskit import QuantumCircuit\n",
    "\n",
    "C1 = QuantumRegister(1, \"C1\")\n",
    "C2 = QuantumRegister(1, \"C2\")\n",
    "C3 = QuantumRegister(1, \"C3\")\n",
    "t = QuantumRegister(1, \"t\")\n",
    "w = QuantumRegister(1, \"w\")\n",
    "\n",
    "qc = QuantumCircuit(C1, C2, C3, w, t)  # 3 control qubits, 1 ancilla, 1 target\n",
    "\n",
    "# Apply Toffoli decomposition using one ancilla\n",
    "qc.ccx(C1, C2, w)  # First Toffoli (c1, c2 -> ancilla)\n",
    "qc.ccx(w, C3, t)  # Second Toffoli (ancilla, c3 -> target)\n",
    "qc.ccx(C1, C2, w)  # Uncompute the ancilla\n",
    "qc.ccx(w, C3, t)  # final state of the target\n",
    "\n",
    "\n",
    "# Draw the circuit\n",
    "qc.draw('mpl')\n"
   ]
  },
  {
   "cell_type": "code",
   "execution_count": null,
   "id": "ab371a6f-cd47-44f0-ab7e-3a560d69c11e",
   "metadata": {},
   "outputs": [],
   "source": []
  }
 ],
 "metadata": {
  "kernelspec": {
   "display_name": "Python 3 (ipykernel)",
   "language": "python",
   "name": "python3"
  },
  "language_info": {
   "codemirror_mode": {
    "name": "ipython",
    "version": 3
   },
   "file_extension": ".py",
   "mimetype": "text/x-python",
   "name": "python",
   "nbconvert_exporter": "python",
   "pygments_lexer": "ipython3",
   "version": "3.12.3"
  }
 },
 "nbformat": 4,
 "nbformat_minor": 5
}
