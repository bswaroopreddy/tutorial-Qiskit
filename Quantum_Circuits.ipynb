{
 "cells": [
  {
   "cell_type": "code",
   "execution_count": 1,
   "id": "7ecc9139-201d-45e8-b1c8-5448528e6c27",
   "metadata": {},
   "outputs": [
    {
     "name": "stdout",
     "output_type": "stream",
     "text": [
      "1.3.1\n"
     ]
    }
   ],
   "source": [
    "from qiskit import __version__\n",
    "print(__version__)"
   ]
  },
  {
   "cell_type": "code",
   "execution_count": 9,
   "id": "8456df4b-8818-4fd2-927a-6c49d1c6d500",
   "metadata": {},
   "outputs": [
    {
     "data": {
      "image/png": "[encoded data removed]",
      "text/plain": [
       "<Figure size 436.286x117.056 with 1 Axes>"
      ]
     },
     "metadata": {},
     "output_type": "display_data"
    }
   ],
   "source": [
    "from qiskit import QuantumCircuit, QuantumRegister, ClassicalRegister\n",
    "from qiskit.quantum_info import Operator\n",
    "#from qiskit_aer import AerSimulator\n",
    "from qiskit.visualization import plot_histogram\n",
    "\n",
    "circuit = QuantumCircuit(1)\n",
    "circuit.h(0)\n",
    "circuit.s(0)\n",
    "circuit.h(0)\n",
    "circuit.t(0)\n",
    "\n",
    "display(circuit.draw(output=\"mpl\"))"
   ]
  },
  {
   "cell_type": "code",
   "execution_count": 39,
   "id": "a3d7c734-4fa8-4ac8-b764-7ee890f0a980",
   "metadata": {},
   "outputs": [
    {
     "data": {
      "image/png": "[encoded data removed]",
      "text/plain": [
       "<Figure size 437.882x117.056 with 1 Axes>"
      ]
     },
     "metadata": {},
     "output_type": "display_data"
    }
   ],
   "source": [
    "X = QuantumRegister(1, \"X\")\n",
    "\n",
    "qc = QuantumCircuit(X)\n",
    "qc.h(X)\n",
    "qc.s(X)\n",
    "qc.h(X)\n",
    "qc.t(X)\n",
    "\n",
    "display(qc.draw(output=\"mpl\"))"
   ]
  },
  {
   "cell_type": "code",
   "execution_count": 52,
   "id": "fb4fd0f8-e400-4433-aa36-26f810348795",
   "metadata": {},
   "outputs": [
    {
     "name": "stdout",
     "output_type": "stream",
     "text": [
      "          \n",
      "q_0: ──■──\n",
      "     ┌─┴─┐\n",
      "q_1: ┤ X ├\n",
      "     └───┘\n",
      "     ┌───┐\n",
      "q_0: ┤ X ├\n",
      "     └─┬─┘\n",
      "q_1: ──■──\n",
      "          \n"
     ]
    },
    {
     "data": {
      "image/png": "[encoded data removed]",
      "text/plain": [
       "<Figure size 203.683x200.667 with 1 Axes>"
      ]
     },
     "execution_count": 52,
     "metadata": {},
     "output_type": "execute_result"
    }
   ],
   "source": [
    "# Controlled-NOT gate\n",
    "\n",
    "## Create a quantum circuit with 2 qubits\n",
    "qc = QuantumCircuit(2)\n",
    "\n",
    "\n",
    "# Apply a CNOT gate with qubit 0 as control and qubit 1 as target\n",
    "qc.cx(0, 1)\n",
    "\n",
    "# Draw the circuit\n",
    "print(qc)\n",
    "\n",
    "## Create a quantum circuit with 2 qubits\n",
    "qc1 = QuantumCircuit(2)\n",
    "\n",
    "# Apply a CNOT gate with qubit 1 as control and qubit 0 as target\n",
    "qc1.cx(1, 0)\n",
    "print(qc1)\n",
    "\n",
    "qc.draw(\"mpl\")\n",
    "qc1.draw(\"mpl\")"
   ]
  },
  {
   "cell_type": "code",
   "execution_count": 23,
   "id": "01be5794-81d0-424d-9ea8-8dbb35869f41",
   "metadata": {},
   "outputs": [
    {
     "name": "stdout",
     "output_type": "stream",
     "text": [
      "State after applying CNOT gate: Statevector([1.+0.j, 0.+0.j, 0.+0.j, 0.+0.j],\n",
      "            dims=(2, 2))\n"
     ]
    }
   ],
   "source": [
    "from qiskit.quantum_info import Statevector\n",
    "state = Statevector.from_instruction(qc)\n",
    "\n",
    "print(\"State after applying CNOT gate:\", state)"
   ]
  },
  {
   "cell_type": "code",
   "execution_count": 29,
   "id": "c784a99a-3aec-4b6e-91cf-6424168343af",
   "metadata": {},
   "outputs": [
    {
     "name": "stdout",
     "output_type": "stream",
     "text": [
      "Statevector after CNOT: Statevector([1.+0.j, 0.+0.j, 0.+0.j, 0.+0.j],\n",
      "            dims=(2, 2))\n"
     ]
    }
   ],
   "source": [
    "from qiskit import QuantumCircuit\n",
    "from qiskit.quantum_info import Statevector\n",
    "\n",
    "# Create a 2-qubit quantum circuit\n",
    "qc = QuantumCircuit(2)\n",
    "\n",
    "# Initialize the qubits to a superposition state (|ψ⟩ = (|00⟩ + |10⟩)/√2)\n",
    "#qc.h(0)\n",
    "\n",
    "# Apply a CNOT gate\n",
    "qc.cx(0, 1)\n",
    "\n",
    "# Simulate the final statevector\n",
    "state = Statevector.from_instruction(qc)\n",
    "\n",
    "# Print the final statevector\n",
    "print(\"Statevector after CNOT:\", state)"
   ]
  },
  {
   "cell_type": "code",
   "execution_count": 53,
   "id": "788d72c3-a816-48a8-8c9c-fcae723243cc",
   "metadata": {
    "scrolled": true
   },
   "outputs": [
    {
     "data": {
      "image/png": "[encoded data removed]",
      "text/plain": [
       "<Figure size 270.66x200.667 with 1 Axes>"
      ]
     },
     "metadata": {},
     "output_type": "display_data"
    },
    {
     "data": {
      "text/latex": [
       "$$\n",
       "\n",
       "\\begin{bmatrix}\n",
       "\\frac{\\sqrt{2}}{2} & \\frac{\\sqrt{2}}{2} & 0 & 0  \\\\\n",
       " 0 & 0 & \\frac{\\sqrt{2}}{2} & - \\frac{\\sqrt{2}}{2}  \\\\\n",
       " 0 & 0 & \\frac{\\sqrt{2}}{2} & \\frac{\\sqrt{2}}{2}  \\\\\n",
       " \\frac{\\sqrt{2}}{2} & - \\frac{\\sqrt{2}}{2} & 0 & 0  \\\\\n",
       " \\end{bmatrix}\n",
       "$$"
      ],
      "text/plain": [
       "<IPython.core.display.Latex object>"
      ]
     },
     "metadata": {},
     "output_type": "display_data"
    }
   ],
   "source": [
    "X = QuantumRegister(1, \"X\")\n",
    "Y = QuantumRegister(1, \"Y\")\n",
    "qc = QuantumCircuit(Y,X)\n",
    "qc.h(Y)\n",
    "qc.cx(Y, X)\n",
    "\n",
    "display(qc.draw(output=\"mpl\"))\n",
    "display(Operator.from_circuit(qc).draw(\"latex\"))"
   ]
  },
  {
   "cell_type": "code",
   "execution_count": 77,
   "id": "0e4de16a-86bd-4f32-a7ee-0d2380e15e70",
   "metadata": {},
   "outputs": [
    {
     "name": "stdout",
     "output_type": "stream",
     "text": [
      "Final Statevector: Statevector([0.+0.j, 1.+0.j, 0.+0.j, 0.+0.j],\n",
      "            dims=(2, 2))\n"
     ]
    },
    {
     "data": {
      "image/png": "[encoded data removed]",
      "text/plain": [
       "<Figure size 370.906x200.667 with 1 Axes>"
      ]
     },
     "execution_count": 77,
     "metadata": {},
     "output_type": "execute_result"
    }
   ],
   "source": [
    "# Initialize a Custom State Using initialize:\n",
    "\n",
    "qc = QuantumCircuit(2)\n",
    "\n",
    "# Define the initial state vector for |01⟩\n",
    "# |01⟩ corresponds to [0, 1, 0, 0] in computational basis\n",
    "initial_state = [0, 0, 0, 1]\n",
    "\n",
    "#initialize qubits\n",
    "qc.initialize(initial_state, [0,1])\n",
    "\n",
    "qc.cx(0,1)\n",
    "\n",
    "state = Statevector.from_instruction(qc)\n",
    "# Print the final statevector\n",
    "print(\"Final Statevector:\", state)\n",
    "\n",
    "qc.draw(\"mpl\")\n"
   ]
  },
  {
   "cell_type": "code",
   "execution_count": 75,
   "id": "f46b52c1-6e57-4ee9-ab39-6b3f87f7c60a",
   "metadata": {},
   "outputs": [
    {
     "name": "stdout",
     "output_type": "stream",
     "text": [
      "Final Statevector: Statevector([0.+0.j, 0.+0.j, 1.+0.j, 0.+0.j],\n",
      "            dims=(2, 2))\n",
      "               \n",
      "q_0: ───────■──\n",
      "     ┌───┐┌─┴─┐\n",
      "q_1: ┤ X ├┤ X ├\n",
      "     └───┘└───┘\n"
     ]
    }
   ],
   "source": [
    "# STatndard Basis states using gates\n",
    "\n",
    "qc = QuantumCircuit(2)\n",
    "\n",
    "qc.x(1)\n",
    "\n",
    "qc.cx(0,1)\n",
    "\n",
    "state = Statevector.from_instruction(qc)\n",
    "# Print the final statevector\n",
    "print(\"Final Statevector:\", state)\n",
    "\n",
    "qc.draw(\"mpl\")\n",
    "\n",
    "print(qc)"
   ]
  },
  {
   "cell_type": "code",
   "execution_count": 78,
   "id": "1733a8f5-bd2d-4c1e-8a8e-5ceabb936e13",
   "metadata": {},
   "outputs": [
    {
     "name": "stdout",
     "output_type": "stream",
     "text": [
      "Final Statevector: Statevector([0.70710678+0.j, 0.        +0.j, 0.        +0.j,\n",
      "             0.70710678+0.j],\n",
      "            dims=(2, 2))\n",
      "     ┌───┐     \n",
      "q_0: ┤ H ├──■──\n",
      "     └───┘┌─┴─┐\n",
      "q_1: ─────┤ X ├\n",
      "          └───┘\n"
     ]
    }
   ],
   "source": [
    "#Superposition States Using h\n",
    "\n",
    "from qiskit import QuantumCircuit\n",
    "\n",
    "# Create a circuit with 2 qubits\n",
    "qc = QuantumCircuit(2)\n",
    "\n",
    "# Apply a Hadamard gate to the first qubit to create superposition\n",
    "qc.h(0)\n",
    "\n",
    "# Apply a CNOT gate to entangle the qubits\n",
    "qc.cx(0, 1)\n",
    "\n",
    "state = Statevector.from_instruction(qc)\n",
    "# Print the final statevector\n",
    "print(\"Final Statevector:\", state)\n",
    "\n",
    "# Print the circuit\n",
    "print(qc)\n"
   ]
  },
  {
   "cell_type": "code",
   "execution_count": 58,
   "id": "2a05d401-e103-4405-b949-387812334e00",
   "metadata": {},
   "outputs": [
    {
     "name": "stdout",
     "output_type": "stream",
     "text": [
      "     ┌──────────────────────────────────┐\n",
      "q_0: ┤0                                 ├\n",
      "     │  Initialize(0.70711,0,0,0.70711) │\n",
      "q_1: ┤1                                 ├\n",
      "     └──────────────────────────────────┘\n"
     ]
    }
   ],
   "source": [
    "# Custom State Preparatfrom qiskit import QuantumCircuit\n",
    "from qiskit.quantum_info import Statevector\n",
    "import numpy as np\n",
    "\n",
    "# Create the statevector for (|00⟩ + |11⟩)/√2\n",
    "state = Statevector([1/np.sqrt(2), 0, 0, 1/np.sqrt(2)])\n",
    "\n",
    "# Create a circuit and initialize it with the statevector\n",
    "qc = QuantumCircuit(2)\n",
    "qc.initialize(state, [0, 1])\n",
    "\n",
    "# Print the circuit\n",
    "print(qc)\n"
   ]
  },
  {
   "cell_type": "code",
   "execution_count": 83,
   "id": "7fa6910c-b22c-40e5-9808-72803cf9ea46",
   "metadata": {},
   "outputs": [
    {
     "data": {
      "text/latex": [
       "$$\\frac{1}{2} |00\\rangle- \\frac{1}{2} |01\\rangle+\\frac{1}{2} |10\\rangle+\\frac{1}{2} |11\\rangle$$"
      ],
      "text/plain": [
       "<IPython.core.display.Latex object>"
      ]
     },
     "metadata": {},
     "output_type": "display_data"
    },
    {
     "data": {
      "image/png": "[encoded data removed]",
      "text/plain": [
       "<Figure size 437.882x200.667 with 1 Axes>"
      ]
     },
     "metadata": {},
     "output_type": "display_data"
    },
    {
     "data": {
      "text/latex": [
       "$$\\frac{1}{2} |00\\rangle- \\frac{1}{2} |01\\rangle+\\frac{1}{2} |10\\rangle+\\frac{1}{2} |11\\rangle$$"
      ],
      "text/plain": [
       "<IPython.core.display.Latex object>"
      ]
     },
     "metadata": {},
     "output_type": "display_data"
    },
    {
     "data": {
      "image/png": "[encoded data removed]",
      "text/plain": [
       "<Figure size 437.882x200.667 with 1 Axes>"
      ]
     },
     "execution_count": 83,
     "metadata": {},
     "output_type": "execute_result"
    }
   ],
   "source": [
    "X = QuantumRegister(1, \"X\")\n",
    "Y = QuantumRegister(1, \"Y\")\n",
    "# Create the statevector for (|00⟩ + |11⟩)/√2\n",
    "state = Statevector([1/np.sqrt(2), 0, 0, 1/np.sqrt(2)])\n",
    "\n",
    "qc = QuantumCircuit(Y,X)\n",
    "U = Operator.from_circuit(qc)\n",
    "\n",
    "qc.initialize(state, [X[0], Y[0]])\n",
    "\n",
    "qc.h(Y)\n",
    "qc.cx(Y, X)\n",
    "\n",
    "state = Statevector.from_instruction(qc)\n",
    "# Print the final statevector\n",
    "#print(\"Final Statevector:\", state)\n",
    "display(state.draw(\"latex\"))\n",
    "\n",
    "display(state.evolve(U).draw(\"latex\"))\n",
    "\n",
    "qc.draw(\"mpl\")\n",
    "#display(Operator.from_circuit(qc).draw(\"latex\"))"
   ]
  },
  {
   "cell_type": "code",
   "execution_count": null,
   "id": "78954e14-41d8-44a9-b869-b162f35ffba5",
   "metadata": {},
   "outputs": [],
   "source": []
  }
 ],
 "metadata": {
  "kernelspec": {
   "display_name": "Python 3 (ipykernel)",
   "language": "python",
   "name": "python3"
  },
  "language_info": {
   "codemirror_mode": {
    "name": "ipython",
    "version": 3
   },
   "file_extension": ".py",
   "mimetype": "text/x-python",
   "name": "python",
   "nbconvert_exporter": "python",
   "pygments_lexer": "ipython3",
   "version": "3.12.3"
  }
 },
 "nbformat": 4,
 "nbformat_minor": 5
}
